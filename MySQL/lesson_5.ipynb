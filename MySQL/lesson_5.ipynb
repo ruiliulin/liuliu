{
 "cells": [
  {
   "cell_type": "markdown",
   "metadata": {},
   "source": [
    "# MySQL中的函数\n",
    "- 加密函数\n",
    "- 聚合函数\n",
    "- 数学相关的函数\n",
    "- 字符相关的函数\n",
    "- 日期函数\n",
    "- 流程控制函数"
   ]
  },
  {
   "cell_type": "markdown",
   "metadata": {},
   "source": [
    "## 加密函数\n",
    "- password(str): 该函数可以对字符串str进行加密，一般情况下，此函数给用户密码进行加密\n",
    "- md5(str): 对字符串str进行散列加密，可使用户对一些普通的不需要进行解密的数据进行加密\n",
    "    - select md5('tlxy666');\n",
    "    - select password(ename) from emp;"
   ]
  },
  {
   "cell_type": "markdown",
   "metadata": {},
   "source": [
    "## 聚合函数\n",
    "- avg(): 平均\n",
    "    - select avg(sal) from emp;\n",
    "- count(): 计数\n",
    "    - select count(*) from emp; \n",
    "- min(): 最小\n",
    "    - select min(sal) from emp;\n",
    "- max(): 最大\n",
    "    - select max(sal) from emp;\n",
    "- sum(): 求和\n",
    "    - select sum(sal) from emp;"
   ]
  },
  {
   "cell_type": "markdown",
   "metadata": {},
   "source": [
    "## 数学相关的函数\n",
    "- rand(): 返回0～1之间的一个随机数\n",
    "    - select rand();\n",
    "- abs(num): 获取num的绝对值\n",
    "    - select abs(-18);\n",
    "- mod(num1, num2): 取余数\n",
    "    - select mod(4,3);\n",
    "- ceiling(num): 向上取整\n",
    "    - select ceiling(1.01);\n",
    "- floor(num): 向下取整\n",
    "    - select floor(1.99);\n",
    "- round(num): 四舍五入\n",
    "    - select round(1.49);\n",
    "- round(num, n): 保留小数点后的n位\n",
    "    - select round(1.5678, 2);\n",
    "- least(num, num2,...): 求给定数据中最小值\n",
    "    - select least(5,15,25,258,369);"
   ]
  },
  {
   "cell_type": "markdown",
   "metadata": {},
   "source": [
    "## 字符相关的函数\n",
    "- char_length(str): 返回字符串str的长度，单位是字符\n",
    "    - select char_length('防晒霜的划分的');\n",
    "- length(str): 返回字符串str的长度\n",
    "    - select length('防晒霜的划分的');\n",
    "- instr(str, substr): 返回字符串str中子字符串substr的位置\n",
    "    - select instr('六六大顺', '大');\n",
    "    - select instr('wqerasdfgfdgfasdfdsasd', 'asd');\n",
    "- insert(str1, index, len, str2): 将字符串str2替换str1的index位置开始长度为len的数据\n",
    "    - select insert('hfwehfiwefreasfrew', 3, 5, 'asd');\n",
    "- replace(str, oldstr, newstr): 将字符串str中的oldstr替换成newstr\n",
    "    - select replace('hfwehfiwefreasfrew', 'we', 'asd');\n",
    "- left(str, len)/right(str, len): 返回字符串str的前len的字符串\n",
    "    - select left('helloworldmysql', 10);\n",
    "    - select right('helloworldmysql', 5);"
   ]
  },
  {
   "cell_type": "markdown",
   "metadata": {},
   "source": [
    "## 日期函数\n",
    "- now(): 获取当前日期和时间\n",
    "    - select now();\n",
    "- curdate()/current_date(): 获取当前的日期\n",
    "    - select curdate();\n",
    "- curtime()/current_time(): 获取当前的时间\n",
    "    - select current_time();\n",
    "- year(date): 获取年份\n",
    "    - select year('2020-01-01');"
   ]
  },
  {
   "cell_type": "markdown",
   "metadata": {},
   "source": [
    "## 流程控制函数\n",
    "- if(expr, v1, v2): 如果表达式expr成立，则返回v1的值，不成立则返回v2的值\n",
    "    - select if(5>3, '对', '错');\n",
    "- ifnull(v1, v2): 如果v1的值不为null，则返回v1的值，否则返回v2的值（滤空函数）\n",
    "    - select ifnull(5, 0);\n",
    "- nullif(expr1, expr2): 如果expr1等于expr2，则返回null值，否则返回expr1的值\n",
    "    - select nullif(2, 2);"
   ]
  },
  {
   "cell_type": "markdown",
   "metadata": {},
   "source": [
    "# 用户的创建和授权（DCL）\n",
    "- 授权的语法格式\n",
    "- 取消权限的语法格式 \n",
    "- 显示授予的权限\n",
    "- 删除用户"
   ]
  },
  {
   "cell_type": "markdown",
   "metadata": {},
   "source": [
    "## 授权的语法格式\n",
    "- GRANT 权限 ON 数据库.表 TO 用户名@登陆的主机 IDENTIFIED BY 密码;\n",
    "    1. 新建一个数据库 testdb  \n",
    "        - create database testdb;\n",
    "    2. 新建用户 laowang 并赋予testdb数据库的相应权限\n",
    "        - grant all privileges on testdb.* to laowang@localhost identified by '123';\n",
    "    3. 如果想要指定部分权限给用户，比如select, update\n",
    "        - grant select,update on testdb.* to laowang@localhost identified by '123';\n",
    "    4. 赋予用户所有数据库的某些权限\n",
    "        - grant select,update on *.* to laowang@\"%\" identified by '123';\n",
    "- 注意：\n",
    "    - all privileges\n",
    "    - *.*\n",
    "    - \"%\""
   ]
  },
  {
   "cell_type": "markdown",
   "metadata": {},
   "source": [
    "## 取消权限的语法格式 \n",
    "- REVOKE 权限 ON 数据库.表 FROM 用户名@登陆的主机;\n",
    "    - 撤销laowang用户的select权限 （注意要在root用户里进行操作）\n",
    "        - revoke select on testdb.* from laowang@localhost;  "
   ]
  },
  {
   "cell_type": "markdown",
   "metadata": {},
   "source": [
    "## 显示授予的权限\n",
    "- show grants;\n",
    "- 常用的权限\n",
    "    - select：对所有表进行查询数据的操作\n",
    "    - insert：对所有表进行插入数据的操作\n",
    "    - update：对所有表进行更新数据的操作 \n",
    "    - delete：对所有表进行删除数据的操作\n",
    "    - alter：对所有表进行修改的操作\n",
    "    - drop：删除数据库，表\n",
    "    - create：创建数据库，表，索引"
   ]
  },
  {
   "cell_type": "markdown",
   "metadata": {},
   "source": [
    "## 删除用户\n",
    "- 在root用户下，进入名为 mysql 的数据库\n",
    "    - use mysql;\n",
    "- 删除user表中的用户名’laowang‘\n",
    "    - delete from user where user='laowang';\n",
    "- 刷新权限\n",
    "    - flush privileges;"
   ]
  },
  {
   "cell_type": "markdown",
   "metadata": {},
   "source": [
    "# MySQL中的索引\n",
    "- 概念\n",
    "    - 是一种高效获取数据的数据结构，以文本形式存在。以某种数据结构存储特定的数据(地址)。好比是一本书的目录！\n",
    "    - 能够加快数据库查询的速度\n",
    "- 作用\n",
    "    - 提高查询的效率\n",
    "    - 在多表连接的时候，作为条件加速连接的速度\n",
    "    - 在分组、排序检索数据的时候，减少分组和排序所消耗的时间\n",
    "- 类型\n",
    "    - 普通索引(最基本索引)\n",
    "        - 创建索引\n",
    "            - create index index_name on table_name(column);\n",
    "                - 案例：\n",
    "                - use testdb;\n",
    "                - create table index_tb1(id int primary key auto_increment, name varchar(32));\n",
    "                - create index index_name on index_tb1(name);\n",
    "            - alter table table_name add index index_name(column);\n",
    "                - alter table index_tb1 add index index_name(name);\n",
    "        - 查看索引\n",
    "            - show index from table_name;\n",
    "                - show index from index_tb1;\n",
    "        - 删除索引\n",
    "            - drop index index_name on table_name;\n",
    "                - drop index index_name on index_tb1;\n",
    "    - 唯一索引（unique）\n",
    "    - 主键索引（primary key）\n",
    "- 注意\n",
    "    - 使用整形优于字符型，额外维护一个与其他字段不相关，与业务不相关的列，一般设置为整数类型，并且要求自增长"
   ]
  },
  {
   "cell_type": "markdown",
   "metadata": {},
   "source": [
    "# MySQL数据的备份和恢复\n",
    "- 数据库的备份\n",
    "    - 使用 mysqldump 命令可以生成指定的 mysql数据库脚本文件\n",
    "    - 语法： mysqldump -uroot -p密码 数据库名称 > 生成的脚本文件存放的路径(不需要登录到mysql数据库中)\n",
    "        - mysqldump -uroot -p？？？ tlxy1 > /home/tlxy/Desktop/tlxy1.sql  \n",
    "- 数据库的恢复\n",
    "    - source 脚本文件存放的路径 （先选择恢复到目的的数据库，需要登录到mydql数据库中） \n",
    "    - mysql -uroot -p密码 新数据库 < 脚本文件存放的路径 （不需要登录到mysql数据库中）\n",
    "        - mysql -uroot -p？？？ tlxy1 < /home/tlxy/Desktop/tlxy1.sql\n",
    "    - 注意\n",
    "        - 指定数据存放的数据库，表名称不能重复"
   ]
  },
  {
   "cell_type": "markdown",
   "metadata": {
    "collapsed": true
   },
   "source": [
    "# 数据库的优化\n",
    "- 遵循设计范式\n",
    "    - 第一范式：对属性的原子性约束，属性不能分解\n",
    "    - 第二范式：对记录的唯一性约束，要求每一条记录都有唯一标识，实体完整性\n",
    "    - 第三范式：对字段的冗余约束，允许字段适当的冗余，提高数据操作的效率\n",
    "- 选择合适的存储引擎\n",
    "    - Innodb    支持事务      行级别的锁    外键      推荐使用\n",
    "    - MyISAM    不支持事务    表级别的锁    不支持    查询效率更高\n",
    "- 选择合适的数据类型\n",
    "    - 优先考虑整形、日期、字符\n",
    "    - 推荐使用枚举 enum('男', '女')\n",
    "- 适当的建立索引\n",
    "    - where   order by   group by 后面经常出现的字段\n",
    "    - 多表的连接字段\n",
    "- 避免使用 selcet *\n",
    "- 为每一张表设置id并且自增长\n",
    "- 只需要查询一条数据， limit 1"
   ]
  }
 ],
 "metadata": {
  "kernelspec": {
   "display_name": "Python 3",
   "language": "python",
   "name": "python3"
  },
  "language_info": {
   "codemirror_mode": {
    "name": "ipython",
    "version": 3
   },
   "file_extension": ".py",
   "mimetype": "text/x-python",
   "name": "python",
   "nbconvert_exporter": "python",
   "pygments_lexer": "ipython3",
   "version": "3.6.3"
  }
 },
 "nbformat": 4,
 "nbformat_minor": 2
}
