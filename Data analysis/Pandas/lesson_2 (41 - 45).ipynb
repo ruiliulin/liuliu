{
 "cells": [
  {
   "cell_type": "markdown",
   "metadata": {},
   "source": [
    "# DataFrame\n",
    "- DataFrame是一个表格型的数据结构\n",
    "- 它含有一组有序的列，每一列都可以使不同类型的数据，有行索引也有列索引\n",
    "- 它可以看做是由Series组成的字典\n",
    "- 数据是以二维结构存放的"
   ]
  },
  {
   "cell_type": "markdown",
   "metadata": {},
   "source": [
    "## DataFrame构建\n",
    "#### 字典类：\n",
    "- 数组、列表或元组构成的字典构造dataframe\n",
    "- Series构成的字典构造dataframe\n",
    "- 字典构成的字典构造dataframe\n",
    "\n",
    "#### 列表类:\n",
    "- 2D ndarray 构造dataframe\n",
    "- 字典构成的列表构造dataframe\n",
    "- Series构成的列表构造dataframe\n"
   ]
  },
  {
   "cell_type": "markdown",
   "metadata": {},
   "source": [
    "### 字典类"
   ]
  },
  {
   "cell_type": "code",
   "execution_count": 1,
   "metadata": {
    "collapsed": true
   },
   "outputs": [],
   "source": [
    "import numpy as np\n",
    "import pandas as pd"
   ]
  },
  {
   "cell_type": "code",
   "execution_count": 2,
   "metadata": {},
   "outputs": [
    {
     "name": "stdout",
     "output_type": "stream",
     "text": [
      "   a  b   c\n",
      "0  1  5   9\n",
      "1  2  6  10\n",
      "2  3  7  11\n",
      "3  4  8  12\n"
     ]
    }
   ],
   "source": [
    "# 1. 数组、列表或元组构成的字典构造dataframe\n",
    "# 构造一个字典\n",
    "data = {'a':[1,2,3,4], \n",
    "        'b':(5,6,7,8),\n",
    "        'c':np.arange(9,13)\n",
    "       }\n",
    "# 构造DataFrame\n",
    "f = pd.DataFrame(data)\n",
    "print(f)"
   ]
  },
  {
   "cell_type": "code",
   "execution_count": 3,
   "metadata": {},
   "outputs": [
    {
     "name": "stdout",
     "output_type": "stream",
     "text": [
      "RangeIndex(start=0, stop=4, step=1)\n"
     ]
    }
   ],
   "source": [
    "# 通过index属性查看行索引\n",
    "print(f.index)"
   ]
  },
  {
   "cell_type": "code",
   "execution_count": 4,
   "metadata": {},
   "outputs": [
    {
     "name": "stdout",
     "output_type": "stream",
     "text": [
      "Index(['a', 'b', 'c'], dtype='object')\n"
     ]
    }
   ],
   "source": [
    "# 通过columns属性查看列索引\n",
    "print(f.columns)"
   ]
  },
  {
   "cell_type": "code",
   "execution_count": 5,
   "metadata": {},
   "outputs": [
    {
     "name": "stdout",
     "output_type": "stream",
     "text": [
      "[[ 1  5  9]\n",
      " [ 2  6 10]\n",
      " [ 3  7 11]\n",
      " [ 4  8 12]]\n"
     ]
    }
   ],
   "source": [
    "# 通过values属性查看值\n",
    "print(f.values)"
   ]
  },
  {
   "cell_type": "code",
   "execution_count": 6,
   "metadata": {},
   "outputs": [
    {
     "name": "stdout",
     "output_type": "stream",
     "text": [
      "   a  b   c\n",
      "A  1  5   9\n",
      "B  2  6  10\n",
      "C  3  7  11\n",
      "D  4  8  12\n"
     ]
    }
   ],
   "source": [
    "# 指定index行索引\n",
    "f = pd.DataFrame(data, index=[\"A\", \"B\", \"C\", \"D\"])\n",
    "print(f)"
   ]
  },
  {
   "cell_type": "code",
   "execution_count": 7,
   "metadata": {},
   "outputs": [
    {
     "name": "stdout",
     "output_type": "stream",
     "text": [
      "   a  b   c    d\n",
      "A  1  5   9  NaN\n",
      "B  2  6  10  NaN\n",
      "C  3  7  11  NaN\n",
      "D  4  8  12  NaN\n"
     ]
    }
   ],
   "source": [
    "# 指定columns列索引\n",
    "f = pd.DataFrame(data, index=[\"A\", \"B\", \"C\", \"D\"], columns=[\"a\", \"b\", \"c\", \"d\"])\n",
    "print(f)"
   ]
  },
  {
   "cell_type": "code",
   "execution_count": 8,
   "metadata": {},
   "outputs": [
    {
     "name": "stdout",
     "output_type": "stream",
     "text": [
      "   a  b    c\n",
      "0  0  4  7.0\n",
      "1  1  5  8.0\n",
      "2  2  6  NaN\n"
     ]
    }
   ],
   "source": [
    "# 2. Series构成的字典构造dataframe\n",
    "pd1 = pd.DataFrame({'a':pd.Series(np.arange(3)), \n",
    "                   'b':pd.Series(np.arange(4, 7)),\n",
    "                   'c':pd.Series(np.arange(7, 9))\n",
    "                   })\n",
    "print(pd1)"
   ]
  },
  {
   "cell_type": "code",
   "execution_count": 9,
   "metadata": {},
   "outputs": [
    {
     "name": "stdout",
     "output_type": "stream",
     "text": [
      "          a    b    c\n",
      "apple   3.6  3.4  3.8\n",
      "banana  5.6  5.5  5.8\n"
     ]
    }
   ],
   "source": [
    "# 3. 字典构成的字典构造dataframe\n",
    "# 字典嵌套（内部字典的key是行索引，外部字典的key是列索引）\n",
    "pd2 = pd.DataFrame({'a':{'apple':3.6, 'banana':5.6},\n",
    "                   'b':{'apple':3.4, 'banana':5.5},\n",
    "                   'c':{'apple':3.8, 'banana':5.8}\n",
    "                   })\n",
    "print(pd2)"
   ]
  },
  {
   "cell_type": "markdown",
   "metadata": {},
   "source": [
    "### 列表类"
   ]
  },
  {
   "cell_type": "code",
   "execution_count": 10,
   "metadata": {},
   "outputs": [
    {
     "name": "stdout",
     "output_type": "stream",
     "text": [
      "   a   b   c\n",
      "1  0   1   2\n",
      "2  3   4   5\n",
      "3  6   7   8\n",
      "4  9  10  11\n"
     ]
    }
   ],
   "source": [
    "# 1. 2D ndarray 构造dataframe\n",
    "# 首先构造二维数组\n",
    "arr1 = np.arange(12).reshape(4,3)\n",
    "pd1 = pd.DataFrame(arr1, index=range(1,5), columns=['a', 'b', 'c'])# 注意指定索引时，长度与原数组保持一致\n",
    "print(pd1)"
   ]
  },
  {
   "cell_type": "code",
   "execution_count": 11,
   "metadata": {},
   "outputs": [
    {
     "name": "stdout",
     "output_type": "stream",
     "text": [
      "   apple  banana\n",
      "0    3.6     5.6\n",
      "1    3.7     5.5\n",
      "2    3.9     5.2\n"
     ]
    }
   ],
   "source": [
    "# 2. 字典构成的列表构造dataframe\n",
    "pd2 = pd.DataFrame([{'apple':3.6, 'banana':5.6}, {'apple':3.7, 'banana':5.5}, {'apple':3.9, 'banana':5.2}])\n",
    "print(pd2)"
   ]
  },
  {
   "cell_type": "code",
   "execution_count": 12,
   "metadata": {},
   "outputs": [
    {
     "name": "stdout",
     "output_type": "stream",
     "text": [
      "          0         1         2\n",
      "0  0.464066  0.098613  0.957727\n",
      "1  0.052819  0.006440       NaN\n",
      "2  0.800106  0.552113  0.085739\n"
     ]
    }
   ],
   "source": [
    "# 3. Series构成的列表构造dataframe\n",
    "pd3 = pd.DataFrame([pd.Series(np.random.rand(3)), pd.Series(np.random.rand(2)), pd.Series(np.random.rand(3))])\n",
    "print(pd3)"
   ]
  },
  {
   "cell_type": "markdown",
   "metadata": {},
   "source": [
    "## DataFrame基本用法\n",
    "- .T转置\n",
    "- 通过列索引获取列数据（Series类型）\n",
    "- 增加列数据\n",
    "-  删除列"
   ]
  },
  {
   "cell_type": "code",
   "execution_count": 13,
   "metadata": {
    "scrolled": true
   },
   "outputs": [
    {
     "name": "stdout",
     "output_type": "stream",
     "text": [
      "   A  B  C\n",
      "a  0  1  2\n",
      "c  3  4  5\n",
      "b  6  7  8\n"
     ]
    }
   ],
   "source": [
    "pd = pd.DataFrame(np.arange(9).reshape(3,3), index=['a', 'c', 'b'], columns=['A', 'B', 'C']) \n",
    "print(pd)"
   ]
  },
  {
   "cell_type": "code",
   "execution_count": 14,
   "metadata": {},
   "outputs": [
    {
     "data": {
      "text/html": [
       "<div>\n",
       "<style>\n",
       "    .dataframe thead tr:only-child th {\n",
       "        text-align: right;\n",
       "    }\n",
       "\n",
       "    .dataframe thead th {\n",
       "        text-align: left;\n",
       "    }\n",
       "\n",
       "    .dataframe tbody tr th {\n",
       "        vertical-align: top;\n",
       "    }\n",
       "</style>\n",
       "<table border=\"1\" class=\"dataframe\">\n",
       "  <thead>\n",
       "    <tr style=\"text-align: right;\">\n",
       "      <th></th>\n",
       "      <th>a</th>\n",
       "      <th>c</th>\n",
       "      <th>b</th>\n",
       "    </tr>\n",
       "  </thead>\n",
       "  <tbody>\n",
       "    <tr>\n",
       "      <th>A</th>\n",
       "      <td>0</td>\n",
       "      <td>3</td>\n",
       "      <td>6</td>\n",
       "    </tr>\n",
       "    <tr>\n",
       "      <th>B</th>\n",
       "      <td>1</td>\n",
       "      <td>4</td>\n",
       "      <td>7</td>\n",
       "    </tr>\n",
       "    <tr>\n",
       "      <th>C</th>\n",
       "      <td>2</td>\n",
       "      <td>5</td>\n",
       "      <td>8</td>\n",
       "    </tr>\n",
       "  </tbody>\n",
       "</table>\n",
       "</div>"
      ],
      "text/plain": [
       "   a  c  b\n",
       "A  0  3  6\n",
       "B  1  4  7\n",
       "C  2  5  8"
      ]
     },
     "execution_count": 14,
     "metadata": {},
     "output_type": "execute_result"
    }
   ],
   "source": [
    "# 和numpy一样进行转置\n",
    "# 行和列进行转置\n",
    "pd.T"
   ]
  },
  {
   "cell_type": "code",
   "execution_count": 15,
   "metadata": {},
   "outputs": [
    {
     "name": "stdout",
     "output_type": "stream",
     "text": [
      "a    0\n",
      "c    3\n",
      "b    6\n",
      "Name: A, dtype: int64\n",
      "\n",
      "<class 'pandas.core.series.Series'>\n"
     ]
    }
   ],
   "source": [
    "# 通过列索引获取列数据\n",
    "print(pd['A'])\n",
    "print()\n",
    "print(type(pd['A']))"
   ]
  },
  {
   "cell_type": "code",
   "execution_count": 16,
   "metadata": {},
   "outputs": [
    {
     "name": "stdout",
     "output_type": "stream",
     "text": [
      "   A  B  C   D\n",
      "a  0  1  2   9\n",
      "c  3  4  5  10\n",
      "b  6  7  8  11\n"
     ]
    }
   ],
   "source": [
    "# 增加列数据\n",
    "pd['D'] = [9, 10, 11]\n",
    "print(pd)"
   ]
  },
  {
   "cell_type": "code",
   "execution_count": 17,
   "metadata": {},
   "outputs": [
    {
     "name": "stdout",
     "output_type": "stream",
     "text": [
      "   A  B  C\n",
      "a  0  1  2\n",
      "c  3  4  5\n",
      "b  6  7  8\n"
     ]
    }
   ],
   "source": [
    "# 删除列\n",
    "del(pd['D'])\n",
    "print(pd)"
   ]
  },
  {
   "cell_type": "markdown",
   "metadata": {},
   "source": [
    "# DataFrame练习\n"
   ]
  },
  {
   "cell_type": "code",
   "execution_count": 18,
   "metadata": {},
   "outputs": [
    {
     "data": {
      "text/html": [
       "<div>\n",
       "<style>\n",
       "    .dataframe thead tr:only-child th {\n",
       "        text-align: right;\n",
       "    }\n",
       "\n",
       "    .dataframe thead th {\n",
       "        text-align: left;\n",
       "    }\n",
       "\n",
       "    .dataframe tbody tr th {\n",
       "        vertical-align: top;\n",
       "    }\n",
       "</style>\n",
       "<table border=\"1\" class=\"dataframe\">\n",
       "  <thead>\n",
       "    <tr style=\"text-align: right;\">\n",
       "      <th></th>\n",
       "      <th>姓名</th>\n",
       "      <th>语文</th>\n",
       "      <th>数学</th>\n",
       "      <th>英语</th>\n",
       "      <th>体育</th>\n",
       "    </tr>\n",
       "  </thead>\n",
       "  <tbody>\n",
       "    <tr>\n",
       "      <th>0</th>\n",
       "      <td>张三</td>\n",
       "      <td>89</td>\n",
       "      <td>59</td>\n",
       "      <td>84</td>\n",
       "      <td>0</td>\n",
       "    </tr>\n",
       "    <tr>\n",
       "      <th>1</th>\n",
       "      <td>李四</td>\n",
       "      <td>78</td>\n",
       "      <td>83</td>\n",
       "      <td>97</td>\n",
       "      <td>0</td>\n",
       "    </tr>\n",
       "    <tr>\n",
       "      <th>2</th>\n",
       "      <td>王五</td>\n",
       "      <td>79</td>\n",
       "      <td>85</td>\n",
       "      <td>88</td>\n",
       "      <td>0</td>\n",
       "    </tr>\n",
       "    <tr>\n",
       "      <th>3</th>\n",
       "      <td>小明</td>\n",
       "      <td>89</td>\n",
       "      <td>92</td>\n",
       "      <td>83</td>\n",
       "      <td>0</td>\n",
       "    </tr>\n",
       "    <tr>\n",
       "      <th>4</th>\n",
       "      <td>小红</td>\n",
       "      <td>90</td>\n",
       "      <td>67</td>\n",
       "      <td>67</td>\n",
       "      <td>0</td>\n",
       "    </tr>\n",
       "    <tr>\n",
       "      <th>5</th>\n",
       "      <td>小刚</td>\n",
       "      <td>87</td>\n",
       "      <td>81</td>\n",
       "      <td>73</td>\n",
       "      <td>0</td>\n",
       "    </tr>\n",
       "    <tr>\n",
       "      <th>6</th>\n",
       "      <td>小亮</td>\n",
       "      <td>83</td>\n",
       "      <td>77</td>\n",
       "      <td>71</td>\n",
       "      <td>0</td>\n",
       "    </tr>\n",
       "  </tbody>\n",
       "</table>\n",
       "</div>"
      ],
      "text/plain": [
       "   姓名  语文  数学  英语  体育\n",
       "0  张三  89  59  84   0\n",
       "1  李四  78  83  97   0\n",
       "2  王五  79  85  88   0\n",
       "3  小明  89  92  83   0\n",
       "4  小红  90  67  67   0\n",
       "5  小刚  87  81  73   0\n",
       "6  小亮  83  77  71   0"
      ]
     },
     "execution_count": 18,
     "metadata": {},
     "output_type": "execute_result"
    }
   ],
   "source": [
    "#１.1 创建一个DataFrame\n",
    "# 用列表创建\n",
    "import numpy as np\n",
    "import pandas as pd\n",
    "\n",
    "ls1 = [['张三', 89, 59, 84, 0],\n",
    "      ['李四', 78, 83, 97, 0],\n",
    "      ['王五', 79, 85, 88, 0],\n",
    "      ['小明', 89, 92, 83, 0],\n",
    "      ['小红', 90, 67, 67, 0],\n",
    "      ['小刚', 87, 81, 73, 0],\n",
    "      ['小亮', 83, 77, 71, 0]\n",
    "      ]\n",
    "pd1 = pd.DataFrame(ls1, columns=['姓名', '语文', '数学', '英语', '体育'])\n",
    "pd1"
   ]
  },
  {
   "cell_type": "code",
   "execution_count": 19,
   "metadata": {},
   "outputs": [
    {
     "data": {
      "text/html": [
       "<div>\n",
       "<style>\n",
       "    .dataframe thead tr:only-child th {\n",
       "        text-align: right;\n",
       "    }\n",
       "\n",
       "    .dataframe thead th {\n",
       "        text-align: left;\n",
       "    }\n",
       "\n",
       "    .dataframe tbody tr th {\n",
       "        vertical-align: top;\n",
       "    }\n",
       "</style>\n",
       "<table border=\"1\" class=\"dataframe\">\n",
       "  <thead>\n",
       "    <tr style=\"text-align: right;\">\n",
       "      <th></th>\n",
       "      <th>姓名</th>\n",
       "      <th>语文</th>\n",
       "      <th>数学</th>\n",
       "      <th>英语</th>\n",
       "      <th>体育</th>\n",
       "    </tr>\n",
       "  </thead>\n",
       "  <tbody>\n",
       "    <tr>\n",
       "      <th>0</th>\n",
       "      <td>张三</td>\n",
       "      <td>89</td>\n",
       "      <td>59</td>\n",
       "      <td>84</td>\n",
       "      <td>0</td>\n",
       "    </tr>\n",
       "    <tr>\n",
       "      <th>1</th>\n",
       "      <td>李四</td>\n",
       "      <td>78</td>\n",
       "      <td>83</td>\n",
       "      <td>97</td>\n",
       "      <td>0</td>\n",
       "    </tr>\n",
       "    <tr>\n",
       "      <th>2</th>\n",
       "      <td>王五</td>\n",
       "      <td>79</td>\n",
       "      <td>85</td>\n",
       "      <td>88</td>\n",
       "      <td>0</td>\n",
       "    </tr>\n",
       "    <tr>\n",
       "      <th>3</th>\n",
       "      <td>小明</td>\n",
       "      <td>89</td>\n",
       "      <td>92</td>\n",
       "      <td>83</td>\n",
       "      <td>0</td>\n",
       "    </tr>\n",
       "    <tr>\n",
       "      <th>4</th>\n",
       "      <td>小红</td>\n",
       "      <td>90</td>\n",
       "      <td>67</td>\n",
       "      <td>67</td>\n",
       "      <td>0</td>\n",
       "    </tr>\n",
       "    <tr>\n",
       "      <th>5</th>\n",
       "      <td>小刚</td>\n",
       "      <td>87</td>\n",
       "      <td>81</td>\n",
       "      <td>73</td>\n",
       "      <td>0</td>\n",
       "    </tr>\n",
       "    <tr>\n",
       "      <th>6</th>\n",
       "      <td>小亮</td>\n",
       "      <td>83</td>\n",
       "      <td>77</td>\n",
       "      <td>71</td>\n",
       "      <td>0</td>\n",
       "    </tr>\n",
       "  </tbody>\n",
       "</table>\n",
       "</div>"
      ],
      "text/plain": [
       "   姓名  语文  数学  英语  体育\n",
       "0  张三  89  59  84   0\n",
       "1  李四  78  83  97   0\n",
       "2  王五  79  85  88   0\n",
       "3  小明  89  92  83   0\n",
       "4  小红  90  67  67   0\n",
       "5  小刚  87  81  73   0\n",
       "6  小亮  83  77  71   0"
      ]
     },
     "execution_count": 19,
     "metadata": {},
     "output_type": "execute_result"
    }
   ],
   "source": [
    "#１.2 创建一个DataFrame\n",
    "# 用字典创建\n",
    "import numpy as np\n",
    "import pandas as pd\n",
    "d2 = {'姓名':['张三', \"李四\", '王五', '小明', '小红', '小刚', '小亮'],\n",
    "     '语文':[89, 78, 79, 89, 90, 87, 83],\n",
    "     '数学':[59, 83, 85, 92, 67, 81, 77],\n",
    "     '英语':[84, 97, 88, 83, 67, 73, 71],\n",
    "     '体育':[0, 0, 0, 0, 0, 0, 0]}\n",
    "pd2 = pd.DataFrame(d2, columns=['姓名', '语文', '数学', '英语', '体育'])\n",
    "pd2"
   ]
  },
  {
   "cell_type": "code",
   "execution_count": 20,
   "metadata": {},
   "outputs": [
    {
     "data": {
      "text/html": [
       "<div>\n",
       "<style>\n",
       "    .dataframe thead tr:only-child th {\n",
       "        text-align: right;\n",
       "    }\n",
       "\n",
       "    .dataframe thead th {\n",
       "        text-align: left;\n",
       "    }\n",
       "\n",
       "    .dataframe tbody tr th {\n",
       "        vertical-align: top;\n",
       "    }\n",
       "</style>\n",
       "<table border=\"1\" class=\"dataframe\">\n",
       "  <thead>\n",
       "    <tr style=\"text-align: right;\">\n",
       "      <th></th>\n",
       "      <th>0</th>\n",
       "      <th>1</th>\n",
       "      <th>2</th>\n",
       "      <th>3</th>\n",
       "      <th>4</th>\n",
       "      <th>5</th>\n",
       "      <th>6</th>\n",
       "    </tr>\n",
       "  </thead>\n",
       "  <tbody>\n",
       "    <tr>\n",
       "      <th>姓名</th>\n",
       "      <td>张三</td>\n",
       "      <td>李四</td>\n",
       "      <td>王五</td>\n",
       "      <td>小明</td>\n",
       "      <td>小红</td>\n",
       "      <td>小刚</td>\n",
       "      <td>小亮</td>\n",
       "    </tr>\n",
       "    <tr>\n",
       "      <th>语文</th>\n",
       "      <td>89</td>\n",
       "      <td>78</td>\n",
       "      <td>79</td>\n",
       "      <td>89</td>\n",
       "      <td>90</td>\n",
       "      <td>87</td>\n",
       "      <td>83</td>\n",
       "    </tr>\n",
       "    <tr>\n",
       "      <th>数学</th>\n",
       "      <td>59</td>\n",
       "      <td>83</td>\n",
       "      <td>85</td>\n",
       "      <td>92</td>\n",
       "      <td>67</td>\n",
       "      <td>81</td>\n",
       "      <td>77</td>\n",
       "    </tr>\n",
       "    <tr>\n",
       "      <th>英语</th>\n",
       "      <td>84</td>\n",
       "      <td>97</td>\n",
       "      <td>88</td>\n",
       "      <td>83</td>\n",
       "      <td>67</td>\n",
       "      <td>73</td>\n",
       "      <td>71</td>\n",
       "    </tr>\n",
       "    <tr>\n",
       "      <th>体育</th>\n",
       "      <td>0</td>\n",
       "      <td>0</td>\n",
       "      <td>0</td>\n",
       "      <td>0</td>\n",
       "      <td>0</td>\n",
       "      <td>0</td>\n",
       "      <td>0</td>\n",
       "    </tr>\n",
       "  </tbody>\n",
       "</table>\n",
       "</div>"
      ],
      "text/plain": [
       "     0   1   2   3   4   5   6\n",
       "姓名  张三  李四  王五  小明  小红  小刚  小亮\n",
       "语文  89  78  79  89  90  87  83\n",
       "数学  59  83  85  92  67  81  77\n",
       "英语  84  97  88  83  67  73  71\n",
       "体育   0   0   0   0   0   0   0"
      ]
     },
     "execution_count": 20,
     "metadata": {},
     "output_type": "execute_result"
    }
   ],
   "source": [
    "# 2. 进行转置\n",
    "pd1.T"
   ]
  },
  {
   "cell_type": "code",
   "execution_count": 21,
   "metadata": {
    "scrolled": true
   },
   "outputs": [
    {
     "data": {
      "text/html": [
       "<div>\n",
       "<style>\n",
       "    .dataframe thead tr:only-child th {\n",
       "        text-align: right;\n",
       "    }\n",
       "\n",
       "    .dataframe thead th {\n",
       "        text-align: left;\n",
       "    }\n",
       "\n",
       "    .dataframe tbody tr th {\n",
       "        vertical-align: top;\n",
       "    }\n",
       "</style>\n",
       "<table border=\"1\" class=\"dataframe\">\n",
       "  <thead>\n",
       "    <tr style=\"text-align: right;\">\n",
       "      <th></th>\n",
       "      <th>姓名</th>\n",
       "      <th>语文</th>\n",
       "      <th>数学</th>\n",
       "      <th>英语</th>\n",
       "    </tr>\n",
       "  </thead>\n",
       "  <tbody>\n",
       "    <tr>\n",
       "      <th>0</th>\n",
       "      <td>张三</td>\n",
       "      <td>89</td>\n",
       "      <td>59</td>\n",
       "      <td>84</td>\n",
       "    </tr>\n",
       "    <tr>\n",
       "      <th>1</th>\n",
       "      <td>李四</td>\n",
       "      <td>78</td>\n",
       "      <td>83</td>\n",
       "      <td>97</td>\n",
       "    </tr>\n",
       "    <tr>\n",
       "      <th>2</th>\n",
       "      <td>王五</td>\n",
       "      <td>79</td>\n",
       "      <td>85</td>\n",
       "      <td>88</td>\n",
       "    </tr>\n",
       "    <tr>\n",
       "      <th>3</th>\n",
       "      <td>小明</td>\n",
       "      <td>89</td>\n",
       "      <td>92</td>\n",
       "      <td>83</td>\n",
       "    </tr>\n",
       "    <tr>\n",
       "      <th>4</th>\n",
       "      <td>小红</td>\n",
       "      <td>90</td>\n",
       "      <td>67</td>\n",
       "      <td>67</td>\n",
       "    </tr>\n",
       "    <tr>\n",
       "      <th>5</th>\n",
       "      <td>小刚</td>\n",
       "      <td>87</td>\n",
       "      <td>81</td>\n",
       "      <td>73</td>\n",
       "    </tr>\n",
       "    <tr>\n",
       "      <th>6</th>\n",
       "      <td>小亮</td>\n",
       "      <td>83</td>\n",
       "      <td>77</td>\n",
       "      <td>71</td>\n",
       "    </tr>\n",
       "  </tbody>\n",
       "</table>\n",
       "</div>"
      ],
      "text/plain": [
       "   姓名  语文  数学  英语\n",
       "0  张三  89  59  84\n",
       "1  李四  78  83  97\n",
       "2  王五  79  85  88\n",
       "3  小明  89  92  83\n",
       "4  小红  90  67  67\n",
       "5  小刚  87  81  73\n",
       "6  小亮  83  77  71"
      ]
     },
     "execution_count": 21,
     "metadata": {},
     "output_type": "execute_result"
    }
   ],
   "source": [
    "# 3. 删除体育成绩\n",
    "del(pd1['体育'])\n",
    "pd1"
   ]
  },
  {
   "cell_type": "code",
   "execution_count": 22,
   "metadata": {},
   "outputs": [
    {
     "data": {
      "text/html": [
       "<div>\n",
       "<style>\n",
       "    .dataframe thead tr:only-child th {\n",
       "        text-align: right;\n",
       "    }\n",
       "\n",
       "    .dataframe thead th {\n",
       "        text-align: left;\n",
       "    }\n",
       "\n",
       "    .dataframe tbody tr th {\n",
       "        vertical-align: top;\n",
       "    }\n",
       "</style>\n",
       "<table border=\"1\" class=\"dataframe\">\n",
       "  <thead>\n",
       "    <tr style=\"text-align: right;\">\n",
       "      <th></th>\n",
       "      <th>姓名</th>\n",
       "      <th>语文</th>\n",
       "      <th>数学</th>\n",
       "      <th>英语</th>\n",
       "    </tr>\n",
       "  </thead>\n",
       "  <tbody>\n",
       "    <tr>\n",
       "      <th>0</th>\n",
       "      <td>张三</td>\n",
       "      <td>89</td>\n",
       "      <td>59</td>\n",
       "      <td>84</td>\n",
       "    </tr>\n",
       "    <tr>\n",
       "      <th>1</th>\n",
       "      <td>李四</td>\n",
       "      <td>78</td>\n",
       "      <td>83</td>\n",
       "      <td>97</td>\n",
       "    </tr>\n",
       "    <tr>\n",
       "      <th>2</th>\n",
       "      <td>王五</td>\n",
       "      <td>79</td>\n",
       "      <td>85</td>\n",
       "      <td>88</td>\n",
       "    </tr>\n",
       "    <tr>\n",
       "      <th>3</th>\n",
       "      <td>小明</td>\n",
       "      <td>89</td>\n",
       "      <td>92</td>\n",
       "      <td>83</td>\n",
       "    </tr>\n",
       "    <tr>\n",
       "      <th>4</th>\n",
       "      <td>小红</td>\n",
       "      <td>90</td>\n",
       "      <td>67</td>\n",
       "      <td>67</td>\n",
       "    </tr>\n",
       "    <tr>\n",
       "      <th>5</th>\n",
       "      <td>小刚</td>\n",
       "      <td>87</td>\n",
       "      <td>81</td>\n",
       "      <td>73</td>\n",
       "    </tr>\n",
       "    <tr>\n",
       "      <th>6</th>\n",
       "      <td>小亮</td>\n",
       "      <td>83</td>\n",
       "      <td>77</td>\n",
       "      <td>71</td>\n",
       "    </tr>\n",
       "  </tbody>\n",
       "</table>\n",
       "</div>"
      ],
      "text/plain": [
       "   姓名  语文  数学  英语\n",
       "0  张三  89  59  84\n",
       "1  李四  78  83  97\n",
       "2  王五  79  85  88\n",
       "3  小明  89  92  83\n",
       "4  小红  90  67  67\n",
       "5  小刚  87  81  73\n",
       "6  小亮  83  77  71"
      ]
     },
     "execution_count": 22,
     "metadata": {},
     "output_type": "execute_result"
    }
   ],
   "source": [
    "# 3. 删除体育成绩\n",
    "pd2.drop(['体育'], axis=1, inplace=True)\n",
    "pd2"
   ]
  },
  {
   "cell_type": "code",
   "execution_count": 23,
   "metadata": {},
   "outputs": [
    {
     "data": {
      "text/html": [
       "<div>\n",
       "<style>\n",
       "    .dataframe thead tr:only-child th {\n",
       "        text-align: right;\n",
       "    }\n",
       "\n",
       "    .dataframe thead th {\n",
       "        text-align: left;\n",
       "    }\n",
       "\n",
       "    .dataframe tbody tr th {\n",
       "        vertical-align: top;\n",
       "    }\n",
       "</style>\n",
       "<table border=\"1\" class=\"dataframe\">\n",
       "  <thead>\n",
       "    <tr style=\"text-align: right;\">\n",
       "      <th></th>\n",
       "      <th>姓名</th>\n",
       "      <th>语文</th>\n",
       "      <th>数学</th>\n",
       "      <th>英语</th>\n",
       "      <th>综合</th>\n",
       "    </tr>\n",
       "  </thead>\n",
       "  <tbody>\n",
       "    <tr>\n",
       "      <th>0</th>\n",
       "      <td>张三</td>\n",
       "      <td>89</td>\n",
       "      <td>59</td>\n",
       "      <td>84</td>\n",
       "      <td>97</td>\n",
       "    </tr>\n",
       "    <tr>\n",
       "      <th>1</th>\n",
       "      <td>李四</td>\n",
       "      <td>78</td>\n",
       "      <td>83</td>\n",
       "      <td>97</td>\n",
       "      <td>87</td>\n",
       "    </tr>\n",
       "    <tr>\n",
       "      <th>2</th>\n",
       "      <td>王五</td>\n",
       "      <td>79</td>\n",
       "      <td>85</td>\n",
       "      <td>88</td>\n",
       "      <td>78</td>\n",
       "    </tr>\n",
       "    <tr>\n",
       "      <th>3</th>\n",
       "      <td>小明</td>\n",
       "      <td>89</td>\n",
       "      <td>92</td>\n",
       "      <td>83</td>\n",
       "      <td>76</td>\n",
       "    </tr>\n",
       "    <tr>\n",
       "      <th>4</th>\n",
       "      <td>小红</td>\n",
       "      <td>90</td>\n",
       "      <td>67</td>\n",
       "      <td>67</td>\n",
       "      <td>84</td>\n",
       "    </tr>\n",
       "    <tr>\n",
       "      <th>5</th>\n",
       "      <td>小刚</td>\n",
       "      <td>87</td>\n",
       "      <td>81</td>\n",
       "      <td>73</td>\n",
       "      <td>88</td>\n",
       "    </tr>\n",
       "    <tr>\n",
       "      <th>6</th>\n",
       "      <td>小亮</td>\n",
       "      <td>83</td>\n",
       "      <td>77</td>\n",
       "      <td>71</td>\n",
       "      <td>91</td>\n",
       "    </tr>\n",
       "  </tbody>\n",
       "</table>\n",
       "</div>"
      ],
      "text/plain": [
       "   姓名  语文  数学  英语  综合\n",
       "0  张三  89  59  84  97\n",
       "1  李四  78  83  97  87\n",
       "2  王五  79  85  88  78\n",
       "3  小明  89  92  83  76\n",
       "4  小红  90  67  67  84\n",
       "5  小刚  87  81  73  88\n",
       "6  小亮  83  77  71  91"
      ]
     },
     "execution_count": 23,
     "metadata": {},
     "output_type": "execute_result"
    }
   ],
   "source": [
    "# 4. 添加‘综合’成绩：（97，87,78，76,84,88,91）\n",
    "pd1['综合'] = [97, 87, 78, 76, 84, 88, 91]\n",
    "pd1"
   ]
  }
 ],
 "metadata": {
  "kernelspec": {
   "display_name": "Python 3",
   "language": "python",
   "name": "python3"
  },
  "language_info": {
   "codemirror_mode": {
    "name": "ipython",
    "version": 3
   },
   "file_extension": ".py",
   "mimetype": "text/x-python",
   "name": "python",
   "nbconvert_exporter": "python",
   "pygments_lexer": "ipython3",
   "version": "3.6.3"
  }
 },
 "nbformat": 4,
 "nbformat_minor": 2
}
