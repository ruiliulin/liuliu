{
 "cells": [
  {
   "cell_type": "markdown",
   "metadata": {},
   "source": [
    "# 时间序列\n",
    "\n",
    "- 时间序列（time series）数据是一种重要的结构化数据形式，。在多个时间点观察或测量到的任何时间都可以形成一段时间序列。很多时间， 时间序列是固定频率的， 也就是说， 数据点是根据某种规律定期出现的（比如每15秒。。。。）。时间序列也可以是不定期的。时间序列数据的意义取决于具体的应用场景。主要由以下几种：\n",
    "    - 时间戳（timestamp），特定的时刻。\n",
    "    - 固定时期（period），如2007年1月或2010年全年。\n",
    "    - 时间间隔（interval），由起始和结束时间戳表示。时期（period）可以被看做间隔（interval）的特例。\n"
   ]
  },
  {
   "cell_type": "code",
   "execution_count": 1,
   "metadata": {},
   "outputs": [
    {
     "data": {
      "text/plain": [
       "1581395224.5832937"
      ]
     },
     "execution_count": 1,
     "metadata": {},
     "output_type": "execute_result"
    }
   ],
   "source": [
    "import time\n",
    "# 时间戳，1970.01.01：00-00-00 到现在时刻的秒的偏移量\n",
    "time.time()"
   ]
  },
  {
   "cell_type": "markdown",
   "metadata": {},
   "source": [
    "## 1. 时间和日期数据类型及其工具：\n",
    "- Python标准库包含用于日期（date）和时间（time）数据的数据类型，而且还有日历方面的功能。\n",
    "- 主要会用到datetime、time以及calendar模块。\n",
    "- datetime.datetime（也可以简写为datetime）是用得最多的数据类型"
   ]
  },
  {
   "cell_type": "code",
   "execution_count": 2,
   "metadata": {
    "collapsed": true
   },
   "outputs": [],
   "source": [
    "import numpy as np\n",
    "import pandas as pd\n",
    "from datetime import datetime"
   ]
  },
  {
   "cell_type": "code",
   "execution_count": 3,
   "metadata": {},
   "outputs": [
    {
     "data": {
      "text/plain": [
       "datetime.datetime(2020, 2, 11, 12, 27, 5, 65676)"
      ]
     },
     "execution_count": 3,
     "metadata": {},
     "output_type": "execute_result"
    }
   ],
   "source": [
    "# 现在特定时刻\n",
    "now = datetime.now()\n",
    "now"
   ]
  },
  {
   "cell_type": "code",
   "execution_count": 4,
   "metadata": {},
   "outputs": [
    {
     "data": {
      "text/plain": [
       "(2020, 2, 11)"
      ]
     },
     "execution_count": 4,
     "metadata": {},
     "output_type": "execute_result"
    }
   ],
   "source": [
    "# 获取年、月、日\n",
    "now.year, now.month, now.day"
   ]
  },
  {
   "cell_type": "code",
   "execution_count": 5,
   "metadata": {},
   "outputs": [
    {
     "data": {
      "text/plain": [
       "datetime.timedelta(522, 49470)"
      ]
     },
     "execution_count": 5,
     "metadata": {},
     "output_type": "execute_result"
    }
   ],
   "source": [
    "# 时间间隔\n",
    "d = datetime(2020, 2, 11) - datetime(2018, 9, 6, 10, 15, 30)\n",
    "d"
   ]
  },
  {
   "cell_type": "code",
   "execution_count": 6,
   "metadata": {},
   "outputs": [
    {
     "data": {
      "text/plain": [
       "522"
      ]
     },
     "execution_count": 6,
     "metadata": {},
     "output_type": "execute_result"
    }
   ],
   "source": [
    "# 天数\n",
    "d.days"
   ]
  },
  {
   "cell_type": "code",
   "execution_count": 7,
   "metadata": {},
   "outputs": [
    {
     "data": {
      "text/plain": [
       "49470"
      ]
     },
     "execution_count": 7,
     "metadata": {},
     "output_type": "execute_result"
    }
   ],
   "source": [
    "# 秒数\n",
    "d.seconds "
   ]
  },
  {
   "cell_type": "code",
   "execution_count": 8,
   "metadata": {
    "collapsed": true
   },
   "outputs": [],
   "source": [
    "# timedelta: 表示两个datetime之间的差（日，秒，毫秒）\n",
    "from datetime import  timedelta"
   ]
  },
  {
   "cell_type": "code",
   "execution_count": 9,
   "metadata": {
    "collapsed": true
   },
   "outputs": [],
   "source": [
    "start = datetime(2020, 2, 11)"
   ]
  },
  {
   "cell_type": "code",
   "execution_count": 10,
   "metadata": {},
   "outputs": [
    {
     "data": {
      "text/plain": [
       "datetime.datetime(2020, 3, 6, 0, 0)"
      ]
     },
     "execution_count": 10,
     "metadata": {},
     "output_type": "execute_result"
    }
   ],
   "source": [
    "start + timedelta(12)*2"
   ]
  },
  {
   "cell_type": "markdown",
   "metadata": {},
   "source": [
    "### 字符串和datetime的相互转换 \n",
    "- datetime转换为字符串\n",
    "    - datetime().strftime('日期时间格式化')\n",
    "- 字符串转换为datetime\n",
    "    - datetime.strptime(字符串, '日期时间格式化')\n",
    "    - parse(字符串), 需导入包"
   ]
  },
  {
   "cell_type": "code",
   "execution_count": 11,
   "metadata": {},
   "outputs": [],
   "source": [
    "stamp = datetime(2020, 2, 11, 10, 4, 30)"
   ]
  },
  {
   "cell_type": "code",
   "execution_count": 12,
   "metadata": {},
   "outputs": [
    {
     "data": {
      "text/plain": [
       "'2020-02-11 10:04:30'"
      ]
     },
     "execution_count": 12,
     "metadata": {},
     "output_type": "execute_result"
    }
   ],
   "source": [
    "# 直接 str(日期时间)\n",
    "str(stamp)"
   ]
  },
  {
   "cell_type": "code",
   "execution_count": 13,
   "metadata": {},
   "outputs": [
    {
     "data": {
      "text/plain": [
       "'2020-02-11 10:04:30'"
      ]
     },
     "execution_count": 13,
     "metadata": {},
     "output_type": "execute_result"
    }
   ],
   "source": [
    "# .strftime('格式化')\n",
    "stamp.strftime('%Y-%m-%d %H:%M:%S')"
   ]
  },
  {
   "cell_type": "code",
   "execution_count": 14,
   "metadata": {
    "collapsed": true
   },
   "outputs": [],
   "source": [
    "v = '2018-9-6'"
   ]
  },
  {
   "cell_type": "code",
   "execution_count": 15,
   "metadata": {},
   "outputs": [
    {
     "data": {
      "text/plain": [
       "datetime.datetime(2018, 9, 6, 0, 0)"
      ]
     },
     "execution_count": 15,
     "metadata": {},
     "output_type": "execute_result"
    }
   ],
   "source": [
    "datetime.strptime(v,'%Y-%m-%d')"
   ]
  },
  {
   "cell_type": "code",
   "execution_count": 16,
   "metadata": {
    "collapsed": true
   },
   "outputs": [],
   "source": [
    "d = ['2/8/2017', '12/15/2016']"
   ]
  },
  {
   "cell_type": "code",
   "execution_count": 17,
   "metadata": {},
   "outputs": [
    {
     "data": {
      "text/plain": [
       "[datetime.datetime(2017, 2, 8, 0, 0), datetime.datetime(2016, 12, 15, 0, 0)]"
      ]
     },
     "execution_count": 17,
     "metadata": {},
     "output_type": "execute_result"
    }
   ],
   "source": [
    "# 进行多个日期解析\n",
    "[datetime.strptime(x, '%m/%d/%Y') for x in d] # 注意格式化的分隔要与字符串一致，用/时不能用- "
   ]
  },
  {
   "cell_type": "code",
   "execution_count": 18,
   "metadata": {},
   "outputs": [
    {
     "data": {
      "text/plain": [
       "datetime.datetime(2011, 1, 3, 0, 0)"
      ]
     },
     "execution_count": 18,
     "metadata": {},
     "output_type": "execute_result"
    }
   ],
   "source": [
    "# 可以直接将字符串转换为datetime，但需要导入包\n",
    "from dateutil.parser import parse\n",
    "parse('2011-01-03')"
   ]
  },
  {
   "cell_type": "code",
   "execution_count": 19,
   "metadata": {},
   "outputs": [
    {
     "data": {
      "text/plain": [
       "datetime.datetime(2020, 12, 6, 0, 0)"
      ]
     },
     "execution_count": 19,
     "metadata": {},
     "output_type": "execute_result"
    }
   ],
   "source": [
    "# 日在第一位\n",
    "parse('6/12/2020', dayfirst=True)"
   ]
  },
  {
   "cell_type": "markdown",
   "metadata": {},
   "source": [
    "### pandas通常是用于处理成组日期的，不管这些日期是DataFrame的轴索引还是列。\n",
    "- to_datetime方法可以解析多种不同的日期表示形式。对标准日期格式（如ISO8601）的解析非常快"
   ]
  },
  {
   "cell_type": "code",
   "execution_count": 20,
   "metadata": {
    "collapsed": true
   },
   "outputs": [],
   "source": [
    "d = ['2018-9-6 12;15:30', '2016-6-30 8:20:40']"
   ]
  },
  {
   "cell_type": "code",
   "execution_count": 21,
   "metadata": {},
   "outputs": [
    {
     "data": {
      "text/plain": [
       "DatetimeIndex(['2018-09-06 15:30:00', '2016-06-30 08:20:40'], dtype='datetime64[ns]', freq=None)"
      ]
     },
     "execution_count": 21,
     "metadata": {},
     "output_type": "execute_result"
    }
   ],
   "source": [
    "# 时间戳类型的索引！！！！！\n",
    "pd.to_datetime(d)"
   ]
  },
  {
   "cell_type": "code",
   "execution_count": 22,
   "metadata": {},
   "outputs": [
    {
     "data": {
      "text/plain": [
       "DatetimeIndex(['2018-09-06 15:30:00', '2016-06-30 08:20:40', 'NaT'], dtype='datetime64[ns]', freq=None)"
      ]
     },
     "execution_count": 22,
     "metadata": {},
     "output_type": "execute_result"
    }
   ],
   "source": [
    "# NaT表示的是时间戳数据的nan值\n",
    "idx = pd.to_datetime(d + [''])\n",
    "idx"
   ]
  },
  {
   "cell_type": "code",
   "execution_count": 23,
   "metadata": {},
   "outputs": [
    {
     "data": {
      "text/plain": [
       "array([False, False,  True])"
      ]
     },
     "execution_count": 23,
     "metadata": {},
     "output_type": "execute_result"
    }
   ],
   "source": [
    "pd.isnull(idx)"
   ]
  },
  {
   "cell_type": "markdown",
   "metadata": {},
   "source": [
    "## 2. 时间序列基础\n",
    "- pandas最基本的时间序列类型就是以时间戳（通常以Python字符串或datatime对象表示）为索引的Series"
   ]
  },
  {
   "cell_type": "code",
   "execution_count": 24,
   "metadata": {
    "collapsed": true
   },
   "outputs": [],
   "source": [
    "import numpy as np\n",
    "import pandas as pd\n",
    "from datetime import datetime"
   ]
  },
  {
   "cell_type": "code",
   "execution_count": 25,
   "metadata": {
    "collapsed": true
   },
   "outputs": [],
   "source": [
    "dates = [datetime(2020, 2, 11), datetime(2020, 2, 12),\n",
    "         datetime(2020, 2, 13), datetime(2020, 2, 14),\n",
    "         datetime(2020, 2, 15), datetime(2020, 2, 16)]"
   ]
  },
  {
   "cell_type": "code",
   "execution_count": 26,
   "metadata": {},
   "outputs": [
    {
     "data": {
      "text/plain": [
       "2020-02-11    1.339608\n",
       "2020-02-12    1.758492\n",
       "2020-02-13    0.979775\n",
       "2020-02-14   -0.140588\n",
       "2020-02-15   -0.719253\n",
       "2020-02-16    0.812352\n",
       "dtype: float64"
      ]
     },
     "execution_count": 26,
     "metadata": {},
     "output_type": "execute_result"
    }
   ],
   "source": [
    "ts = pd.Series(np.random.randn(6), index=dates)\n",
    "ts"
   ]
  },
  {
   "cell_type": "code",
   "execution_count": 27,
   "metadata": {},
   "outputs": [
    {
     "data": {
      "text/plain": [
       "DatetimeIndex(['2020-02-11', '2020-02-12', '2020-02-13', '2020-02-14',\n",
       "               '2020-02-15', '2020-02-16'],\n",
       "              dtype='datetime64[ns]', freq=None)"
      ]
     },
     "execution_count": 27,
     "metadata": {},
     "output_type": "execute_result"
    }
   ],
   "source": [
    "# 时间戳索引\n",
    "# pandas用numpy的datetime64数据类型以纳秒形式存储\n",
    "ts.index"
   ]
  },
  {
   "cell_type": "code",
   "execution_count": 28,
   "metadata": {},
   "outputs": [
    {
     "data": {
      "text/plain": [
       "dtype('<M8[ns]')"
      ]
     },
     "execution_count": 28,
     "metadata": {},
     "output_type": "execute_result"
    }
   ],
   "source": [
    "ts.index.dtype"
   ]
  },
  {
   "cell_type": "code",
   "execution_count": 29,
   "metadata": {},
   "outputs": [
    {
     "data": {
      "text/plain": [
       "2020-02-11    1.339608\n",
       "2020-02-13    0.979775\n",
       "2020-02-15   -0.719253\n",
       "dtype: float64"
      ]
     },
     "execution_count": 29,
     "metadata": {},
     "output_type": "execute_result"
    }
   ],
   "source": [
    "ts[::2]"
   ]
  },
  {
   "cell_type": "code",
   "execution_count": 30,
   "metadata": {},
   "outputs": [
    {
     "data": {
      "text/plain": [
       "2020-02-11    2.679215\n",
       "2020-02-12         NaN\n",
       "2020-02-13    1.959551\n",
       "2020-02-14         NaN\n",
       "2020-02-15   -1.438506\n",
       "2020-02-16         NaN\n",
       "dtype: float64"
      ]
     },
     "execution_count": 30,
     "metadata": {},
     "output_type": "execute_result"
    }
   ],
   "source": [
    "ts + ts[::2]"
   ]
  },
  {
   "cell_type": "code",
   "execution_count": 31,
   "metadata": {},
   "outputs": [
    {
     "data": {
      "text/plain": [
       "Timestamp('2020-02-11 00:00:00')"
      ]
     },
     "execution_count": 31,
     "metadata": {},
     "output_type": "execute_result"
    }
   ],
   "source": [
    "s = ts.index[0]\n",
    "s"
   ]
  },
  {
   "cell_type": "markdown",
   "metadata": {},
   "source": [
    "### 索引、选取、子集构造"
   ]
  },
  {
   "cell_type": "code",
   "execution_count": 32,
   "metadata": {},
   "outputs": [
    {
     "data": {
      "text/plain": [
       "0.9797752726397622"
      ]
     },
     "execution_count": 32,
     "metadata": {},
     "output_type": "execute_result"
    }
   ],
   "source": [
    "stamp = ts.index[2]\n",
    "ts[stamp]"
   ]
  },
  {
   "cell_type": "code",
   "execution_count": 33,
   "metadata": {},
   "outputs": [
    {
     "data": {
      "text/plain": [
       "0.9797752726397622"
      ]
     },
     "execution_count": 33,
     "metadata": {},
     "output_type": "execute_result"
    }
   ],
   "source": [
    "ts[ts.index[2]]"
   ]
  },
  {
   "cell_type": "code",
   "execution_count": 34,
   "metadata": {},
   "outputs": [
    {
     "data": {
      "text/plain": [
       "0.9797752726397622"
      ]
     },
     "execution_count": 34,
     "metadata": {},
     "output_type": "execute_result"
    }
   ],
   "source": [
    "ts['2/13/2020']"
   ]
  },
  {
   "cell_type": "code",
   "execution_count": 35,
   "metadata": {},
   "outputs": [
    {
     "data": {
      "text/plain": [
       "0.9797752726397622"
      ]
     },
     "execution_count": 35,
     "metadata": {},
     "output_type": "execute_result"
    }
   ],
   "source": [
    "ts['20200213']"
   ]
  },
  {
   "cell_type": "code",
   "execution_count": 36,
   "metadata": {
    "scrolled": true
   },
   "outputs": [
    {
     "data": {
      "text/plain": [
       "2020-01-01    1.977260\n",
       "2020-01-02   -0.644850\n",
       "2020-01-03    0.192721\n",
       "2020-01-04    0.777013\n",
       "2020-01-05   -0.006462\n",
       "2020-01-06   -0.097760\n",
       "2020-01-07   -0.978820\n",
       "2020-01-08    1.580654\n",
       "2020-01-09    0.690168\n",
       "2020-01-10   -0.557244\n",
       "2020-01-11   -0.336592\n",
       "2020-01-12    0.572294\n",
       "2020-01-13    1.719285\n",
       "2020-01-14    1.008169\n",
       "2020-01-15    1.498172\n",
       "2020-01-16   -0.211304\n",
       "2020-01-17   -0.099546\n",
       "2020-01-18    0.079711\n",
       "2020-01-19   -0.490407\n",
       "2020-01-20    0.696561\n",
       "2020-01-21    0.721125\n",
       "2020-01-22    0.263741\n",
       "2020-01-23    2.010445\n",
       "2020-01-24   -0.345869\n",
       "2020-01-25   -0.122206\n",
       "2020-01-26   -0.309442\n",
       "2020-01-27    0.357696\n",
       "2020-01-28    1.299564\n",
       "2020-01-29   -0.496736\n",
       "2020-01-30   -0.955257\n",
       "                ...   \n",
       "2022-08-28   -0.642545\n",
       "2022-08-29    0.813081\n",
       "2022-08-30   -0.042103\n",
       "2022-08-31   -0.492758\n",
       "2022-09-01    1.434353\n",
       "2022-09-02   -0.185046\n",
       "2022-09-03   -2.480926\n",
       "2022-09-04   -0.207543\n",
       "2022-09-05   -0.623723\n",
       "2022-09-06   -1.101898\n",
       "2022-09-07   -2.218130\n",
       "2022-09-08    1.528082\n",
       "2022-09-09    1.181867\n",
       "2022-09-10    0.065747\n",
       "2022-09-11    0.249133\n",
       "2022-09-12    0.343281\n",
       "2022-09-13   -0.313416\n",
       "2022-09-14   -0.073333\n",
       "2022-09-15   -0.268194\n",
       "2022-09-16   -1.359727\n",
       "2022-09-17    0.216509\n",
       "2022-09-18   -0.945901\n",
       "2022-09-19   -1.210189\n",
       "2022-09-20   -0.282304\n",
       "2022-09-21    0.035231\n",
       "2022-09-22   -0.157245\n",
       "2022-09-23    2.031254\n",
       "2022-09-24    0.499091\n",
       "2022-09-25   -0.337235\n",
       "2022-09-26    1.189123\n",
       "Freq: D, Length: 1000, dtype: float64"
      ]
     },
     "execution_count": 36,
     "metadata": {},
     "output_type": "execute_result"
    }
   ],
   "source": [
    "# pd.date_range('起始日期', preiods=时间跨度)\n",
    "ts1 = pd.Series(np.random.randn(1000), index=pd.date_range('1/1/2020', periods=1000))\n",
    "ts1"
   ]
  },
  {
   "cell_type": "code",
   "execution_count": 37,
   "metadata": {
    "scrolled": true
   },
   "outputs": [
    {
     "data": {
      "text/plain": [
       "2020-01-01    1.977260\n",
       "2020-01-02   -0.644850\n",
       "2020-01-03    0.192721\n",
       "2020-01-04    0.777013\n",
       "2020-01-05   -0.006462\n",
       "2020-01-06   -0.097760\n",
       "2020-01-07   -0.978820\n",
       "2020-01-08    1.580654\n",
       "2020-01-09    0.690168\n",
       "2020-01-10   -0.557244\n",
       "2020-01-11   -0.336592\n",
       "2020-01-12    0.572294\n",
       "2020-01-13    1.719285\n",
       "2020-01-14    1.008169\n",
       "2020-01-15    1.498172\n",
       "2020-01-16   -0.211304\n",
       "2020-01-17   -0.099546\n",
       "2020-01-18    0.079711\n",
       "2020-01-19   -0.490407\n",
       "2020-01-20    0.696561\n",
       "2020-01-21    0.721125\n",
       "2020-01-22    0.263741\n",
       "2020-01-23    2.010445\n",
       "2020-01-24   -0.345869\n",
       "2020-01-25   -0.122206\n",
       "2020-01-26   -0.309442\n",
       "2020-01-27    0.357696\n",
       "2020-01-28    1.299564\n",
       "2020-01-29   -0.496736\n",
       "2020-01-30   -0.955257\n",
       "                ...   \n",
       "2020-12-02   -1.314009\n",
       "2020-12-03   -1.340544\n",
       "2020-12-04   -1.054936\n",
       "2020-12-05   -0.007198\n",
       "2020-12-06    0.608299\n",
       "2020-12-07    0.374558\n",
       "2020-12-08   -0.301225\n",
       "2020-12-09    0.156702\n",
       "2020-12-10   -0.977231\n",
       "2020-12-11   -0.157004\n",
       "2020-12-12   -0.049266\n",
       "2020-12-13    0.147533\n",
       "2020-12-14   -1.317920\n",
       "2020-12-15    1.599519\n",
       "2020-12-16    1.304752\n",
       "2020-12-17   -1.233783\n",
       "2020-12-18    0.060354\n",
       "2020-12-19    1.166321\n",
       "2020-12-20    0.432265\n",
       "2020-12-21    0.749935\n",
       "2020-12-22   -1.719097\n",
       "2020-12-23   -0.383963\n",
       "2020-12-24   -1.038130\n",
       "2020-12-25   -0.527519\n",
       "2020-12-26    1.381239\n",
       "2020-12-27   -0.679568\n",
       "2020-12-28   -0.555135\n",
       "2020-12-29    0.015194\n",
       "2020-12-30    0.052957\n",
       "2020-12-31   -0.408472\n",
       "Freq: D, Length: 366, dtype: float64"
      ]
     },
     "execution_count": 37,
     "metadata": {},
     "output_type": "execute_result"
    }
   ],
   "source": [
    "ts1['2020']"
   ]
  },
  {
   "cell_type": "code",
   "execution_count": 38,
   "metadata": {},
   "outputs": [
    {
     "data": {
      "text/plain": [
       "2020-02-01   -2.379706\n",
       "2020-02-02   -0.367964\n",
       "2020-02-03   -0.242184\n",
       "2020-02-04    1.359691\n",
       "2020-02-05   -0.412256\n",
       "2020-02-06    0.012548\n",
       "2020-02-07    0.273118\n",
       "2020-02-08   -1.630474\n",
       "2020-02-09   -0.732867\n",
       "2020-02-10   -1.248159\n",
       "2020-02-11    0.665062\n",
       "2020-02-12   -0.382334\n",
       "2020-02-13    0.695902\n",
       "2020-02-14   -1.235614\n",
       "2020-02-15   -1.637152\n",
       "2020-02-16   -1.349849\n",
       "2020-02-17    1.534868\n",
       "2020-02-18    0.530421\n",
       "2020-02-19    0.422096\n",
       "2020-02-20   -0.848149\n",
       "2020-02-21   -0.021327\n",
       "2020-02-22   -1.496544\n",
       "2020-02-23    1.267916\n",
       "2020-02-24    1.104646\n",
       "2020-02-25   -1.702240\n",
       "2020-02-26    0.691189\n",
       "2020-02-27    0.143943\n",
       "2020-02-28    0.029407\n",
       "2020-02-29    1.011426\n",
       "Freq: D, dtype: float64"
      ]
     },
     "execution_count": 38,
     "metadata": {},
     "output_type": "execute_result"
    }
   ],
   "source": [
    "ts1['2020 02']"
   ]
  },
  {
   "cell_type": "code",
   "execution_count": 39,
   "metadata": {},
   "outputs": [
    {
     "data": {
      "text/plain": [
       "2020-02-11    1.339608\n",
       "2020-02-12    1.758492\n",
       "2020-02-13    0.979775\n",
       "2020-02-14   -0.140588\n",
       "2020-02-15   -0.719253\n",
       "2020-02-16    0.812352\n",
       "dtype: float64"
      ]
     },
     "execution_count": 39,
     "metadata": {},
     "output_type": "execute_result"
    }
   ],
   "source": [
    "ts"
   ]
  },
  {
   "cell_type": "code",
   "execution_count": 40,
   "metadata": {},
   "outputs": [
    {
     "data": {
      "text/plain": [
       "2020-02-12    1.758492\n",
       "2020-02-13    0.979775\n",
       "2020-02-14   -0.140588\n",
       "2020-02-15   -0.719253\n",
       "2020-02-16    0.812352\n",
       "dtype: float64"
      ]
     },
     "execution_count": 40,
     "metadata": {},
     "output_type": "execute_result"
    }
   ],
   "source": [
    "ts[datetime(2020, 2, 12):]"
   ]
  },
  {
   "cell_type": "code",
   "execution_count": 41,
   "metadata": {},
   "outputs": [
    {
     "data": {
      "text/plain": [
       "2020-02-11    1.339608\n",
       "2020-02-12    1.758492\n",
       "2020-02-13    0.979775\n",
       "2020-02-14   -0.140588\n",
       "dtype: float64"
      ]
     },
     "execution_count": 41,
     "metadata": {},
     "output_type": "execute_result"
    }
   ],
   "source": [
    "ts['1/6/2020':'2020-02-14']"
   ]
  },
  {
   "cell_type": "code",
   "execution_count": 42,
   "metadata": {},
   "outputs": [
    {
     "data": {
      "text/plain": [
       "2020-02-11    1.000000\n",
       "2020-02-12    1.000000\n",
       "2020-02-13    1.000000\n",
       "2020-02-14    1.000000\n",
       "2020-02-15   -0.719253\n",
       "2020-02-16    0.812352\n",
       "dtype: float64"
      ]
     },
     "execution_count": 42,
     "metadata": {},
     "output_type": "execute_result"
    }
   ],
   "source": [
    "# 可以直接通过时间戳索引修改原始数据\n",
    "ts['1/6/2020':'2020-02-14'] = 1\n",
    "ts"
   ]
  },
  {
   "cell_type": "code",
   "execution_count": 43,
   "metadata": {},
   "outputs": [
    {
     "data": {
      "text/plain": [
       "2020-02-11    1.0\n",
       "2020-02-12    1.0\n",
       "2020-02-13    1.0\n",
       "dtype: float64"
      ]
     },
     "execution_count": 43,
     "metadata": {},
     "output_type": "execute_result"
    }
   ],
   "source": [
    "# pd.truncate()截断数据\n",
    "ts.truncate(after='20200213')"
   ]
  },
  {
   "cell_type": "markdown",
   "metadata": {},
   "source": [
    "### 带有重复索引的时间序列"
   ]
  },
  {
   "cell_type": "code",
   "execution_count": 44,
   "metadata": {},
   "outputs": [
    {
     "data": {
      "text/plain": [
       "DatetimeIndex(['2020-02-11', '2020-02-13', '2020-02-12', '2020-02-12',\n",
       "               '2020-02-11'],\n",
       "              dtype='datetime64[ns]', freq=None)"
      ]
     },
     "execution_count": 44,
     "metadata": {},
     "output_type": "execute_result"
    }
   ],
   "source": [
    "dates = pd.DatetimeIndex(['2/11/2020', '2/13/2020', '2/12/2020', '2/12/2020', '2/11/2020'])\n",
    "dates"
   ]
  },
  {
   "cell_type": "code",
   "execution_count": 45,
   "metadata": {},
   "outputs": [
    {
     "data": {
      "text/plain": [
       "2020-02-11    0\n",
       "2020-02-13    1\n",
       "2020-02-12    2\n",
       "2020-02-12    3\n",
       "2020-02-11    4\n",
       "dtype: int64"
      ]
     },
     "execution_count": 45,
     "metadata": {},
     "output_type": "execute_result"
    }
   ],
   "source": [
    "ts2 = pd.Series(np.arange(5), index=dates)\n",
    "ts2"
   ]
  },
  {
   "cell_type": "code",
   "execution_count": 46,
   "metadata": {},
   "outputs": [
    {
     "data": {
      "text/plain": [
       "False"
      ]
     },
     "execution_count": 46,
     "metadata": {},
     "output_type": "execute_result"
    }
   ],
   "source": [
    "ts2.index.is_unique"
   ]
  },
  {
   "cell_type": "code",
   "execution_count": 47,
   "metadata": {},
   "outputs": [
    {
     "data": {
      "text/plain": [
       "2020-02-13    1\n",
       "dtype: int64"
      ]
     },
     "execution_count": 47,
     "metadata": {},
     "output_type": "execute_result"
    }
   ],
   "source": [
    "ts2['2/13/2020']"
   ]
  },
  {
   "cell_type": "code",
   "execution_count": 48,
   "metadata": {},
   "outputs": [
    {
     "data": {
      "text/plain": [
       "2020-02-11    0\n",
       "2020-02-11    4\n",
       "dtype: int64"
      ]
     },
     "execution_count": 48,
     "metadata": {},
     "output_type": "execute_result"
    }
   ],
   "source": [
    "ts2['2/11/2020']"
   ]
  },
  {
   "cell_type": "code",
   "execution_count": 49,
   "metadata": {},
   "outputs": [
    {
     "data": {
      "text/plain": [
       "2020-02-11    2.0\n",
       "2020-02-12    2.5\n",
       "2020-02-13    1.0\n",
       "dtype: float64"
      ]
     },
     "execution_count": 49,
     "metadata": {},
     "output_type": "execute_result"
    }
   ],
   "source": [
    "# 对数据进行分组规整操作\n",
    "ts2.groupby(level=0).mean()"
   ]
  },
  {
   "cell_type": "code",
   "execution_count": 50,
   "metadata": {},
   "outputs": [
    {
     "data": {
      "text/plain": [
       "2020-02-11    2\n",
       "2020-02-12    2\n",
       "2020-02-13    1\n",
       "dtype: int64"
      ]
     },
     "execution_count": 50,
     "metadata": {},
     "output_type": "execute_result"
    }
   ],
   "source": [
    "ts2.groupby(level=0).count()"
   ]
  },
  {
   "cell_type": "markdown",
   "metadata": {},
   "source": [
    "## 3. 日期的范围、频率以及移动\n",
    "- pandas中的原生时间序列一般被认为是不规则的，也就是说，它们没有固定的频率。对于大部分应用程序而言，这是无所谓的\n",
    "- 但是，它常常需要以某种相对固定的频率进行分析，比如每日、每月、每15分钟等（这样自然会在时间序列中引入缺失值）\n",
    "- 幸运的是，pandas有一整套标准时间序列频率以及用于重采样、频率推断、生成固定频率日期范围的工具\n",
    "- 例如，我们可以将之前那个时间序列转换为一个具有固定频率（每日）的时间序列，只需调用resample即可"
   ]
  },
  {
   "cell_type": "markdown",
   "metadata": {},
   "source": [
    "### 生成日期范围"
   ]
  },
  {
   "cell_type": "code",
   "execution_count": null,
   "metadata": {
    "collapsed": true
   },
   "outputs": [],
   "source": []
  }
 ],
 "metadata": {
  "kernelspec": {
   "display_name": "Python 3",
   "language": "python",
   "name": "python3"
  },
  "language_info": {
   "codemirror_mode": {
    "name": "ipython",
    "version": 3
   },
   "file_extension": ".py",
   "mimetype": "text/x-python",
   "name": "python",
   "nbconvert_exporter": "python",
   "pygments_lexer": "ipython3",
   "version": "3.6.3"
  }
 },
 "nbformat": 4,
 "nbformat_minor": 2
}
