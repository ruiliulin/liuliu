{
 "cells": [
  {
   "cell_type": "markdown",
   "metadata": {},
   "source": [
    "## MySQL的约束\n",
    "- 约束概念\n",
    "     - 是一种限制，他是对表的行和列的数据做出的约束，确保表中数据的完整性和唯一性\n",
    "- 使用场景\n",
    "    - 创建表的时候，添加约束\n",
    "- 约束的分类 \n",
    "    - default:         默认约束， 域完整性\n",
    "    - not null:        非空约束， 域完整性\n",
    "    - unique:          唯一约束， 实体完整性\n",
    "    - primary key:     主键约束， 实体完整性 \n",
    "    - forgien key:     外键约束， 参照完整性\n",
    "    - check:           检查约束(MySQL不支持)， 域完整性 \n",
    "    - auto_increment:  自增长约束 \n",
    "    - unsigned:        无符号约束\n",
    "    - zerofill:        零填充约束"
   ]
  },
  {
   "cell_type": "markdown",
   "metadata": {},
   "source": [
    "### 数据库中有三个完整性，域完整性，实体完整性，参照完整性\n",
    "- 域(列)完整性：\n",
    "    - 是对数据表中字段属性的约束\n",
    "- 实体完整性在MySQL中实现：\n",
    "    - 通过主键约束和候选键约束实现的\n",
    "- 参照完整性：\n",
    "    - 也就是说是MySQL的外键"
   ]
  },
  {
   "cell_type": "markdown",
   "metadata": {},
   "source": [
    "#### 1. 默认约束 default\n",
    "- 概念\n",
    "    - 指定某列的默认值，插入数据的时候，此列没有值，则用default指定的值来填充\n",
    "- 添加(修改)\n",
    "    - 在创建表的时候添加：create.......default \n",
    "        - 举例--- create table t1( id int default 1, name varchar(32) default 'laowang' );\n",
    "    - 通过alter添加(修改)：alter...modify/change... \n",
    "        - 举例--- alter table t1 modify id int default 2;\n",
    "        - 举例--- alter table t1 change name name varchar(32) default 'dana';\n",
    "- 删除\n",
    "    - alter...modify/change\n",
    "        - 举例--- alter table t1 modify id int;\n",
    "        - 举例--- alter table t1 change name name varchar(32);"
   ]
  },
  {
   "cell_type": "markdown",
   "metadata": {},
   "source": [
    "#### 2. 非空约束 not null\n",
    "- 概念\n",
    "    - 指定某列的值不为空，在插入数据的时候必须非空  \"\" 不等于 null ， 0 不等于 null\n",
    "- 添加\n",
    "    - 在创建表的时候添加：create......not null\n",
    "        - 举例--- create table t2( id int not null, name varchar(32) not null );\n",
    "    - 通过alter添加(修改)：alter...modify/change...\n",
    "        - 举例--- alter table t1 modify id int not null;\n",
    "        - 举例--- alter table t1 change name name varchar(32) null;\n",
    "- 删除\n",
    "    - alter...modify/change\n",
    "        - 举例--- alter table t1 modify id int;\n",
    "        - 举例--- alter table t1 change name name varchar(32);"
   ]
  },
  {
   "cell_type": "markdown",
   "metadata": {},
   "source": [
    "#### 3. 唯一约束 unique\n",
    "- 概念\n",
    "    - 指定列或者列组合不能重复，保证数据的唯一性\n",
    "    - 不能出现重复的值，但是可以有多个null\n",
    "    - 同一张表可以有多个唯一的约束\n",
    "- 添加唯一约束\n",
    "    - 在创建表的时候添加：create......unique\n",
    "        - 举例--- create table t3( id int unique, name varchar(32) not null );\n",
    "            - insert t3 values (1, 'laowang');\n",
    "            - insert t3 values (1, 'laoli');   -- 此时会报错，因为id列设置了唯一约束\n",
    "        - 举例--- create table t3( \n",
    "        id int,                                -- 注意这里没有unique\n",
    "        name varchar(32) not null, \n",
    "        constraint id_unique unique(id, name)  -- 添加复合约束\n",
    "        );\n",
    "            - insert t3 values (1, '老王');\n",
    "            - insert t3 values (1, '老李');     -- 此时不会报错，因为只有当id和name列同时一致才会报错，这就是复合约束的作用\n",
    "    - 通过alter添加(修改)：alter...modify/change.../ alter ... add unique...\n",
    "        - 举例--- alter table t3 modify id int unique;\n",
    "        - 举例--- alter table t3 add unique(name);\n",
    "        - 举例--- alter table t3 add constraint un_id unique(id, name);\n",
    "- 删除唯一约束\n",
    "    - alter ... drop index 名称;  /  drop index 名称 on 表名;\n",
    "        - 举例---  alter table t3 drop index id_unique;\n",
    "- 注意：\n",
    "    - 如果删除的唯一约束具有自增长约束，则必须先删除自增长约束，然后再去删除唯一约束"
   ]
  },
  {
   "cell_type": "markdown",
   "metadata": {},
   "source": [
    "#### 4. 主键约束 primary key\n",
    "- 概念\n",
    "    - 当前行的数据不为空，并且不能重复\n",
    "    - 相当于 唯一约束 unique + 非空约束 not null\n",
    "- 添加主键约束\n",
    "    - 在创建表的时候添加：create......primary key\n",
    "        - 举例--- create table t4(id int primary key, name varchar(20));\n",
    "        - 举例--- create table t4( id int, name varchar(32), constraint pr_id primary key(id, name));\n",
    "    - 通过alter添加(修改)：alter...modify/change.../ alter ... add ...\n",
    "        - 举例--- alter table t4 modify id int primary key;\n",
    "        - 举例--- alter table t4 add constraint pk_id_name primary key(id, name);\n",
    "- 删除主键约束\n",
    "    - alter ... drop primary key\n",
    "- 注意：\n",
    "    - 如果删除的主键约束具有自增长约束，则必须先删除自增长约束，然后再去删除主键约束"
   ]
  },
  {
   "cell_type": "markdown",
   "metadata": {},
   "source": [
    "#### 5. 自增长约束 auto_increment\n",
    "- 概念\n",
    "    - 列的数值自动增长，列的类型只能是整数类型\n",
    "    - 通常给主键添加自增长约束\n",
    "- 添加\n",
    "    - 在创建表的时候添加：create......auto_increment\n",
    "        - 举例--- create table t5(id int primary key auto_increment, name varchar(32));\n",
    "    - 通过alter添加(修改)：alter...modify/change.../ alter ... auto_increment\n",
    "        - 举例--- alter table t5 modify name int primary key auto_increment;\n",
    "- 删除\n",
    "    - alter ... modify/change... \n",
    "        - 举例--- alter table t5 modify id int;\n",
    "- 注意\n",
    "    - **一张表只能有一个自增长列！！！并且该列必须要定义约束！！！**"
   ]
  },
  {
   "cell_type": "markdown",
   "metadata": {},
   "source": [
    "#### 6. 无符号约束  unsigned\n",
    "- 概念\n",
    "    - 指定当前列的数值为非负数\n",
    "        - 举例：tinyint -128 ~ 127  unsigned 0 ~ 255\n",
    "- 添加\n",
    "    - 在创建表的时候添加：create......unsigned\n",
    "        - 举例--- create table t6(id int, age tinyint unsigned);\n",
    "    - 通过alter添加(修改)：alter...modify/change.../ alter ... unsigned\n",
    "        - 举例--- alter table t6 modify age tinyint unsigned;\n",
    "- 删除\n",
    "    - alter ... modify/change...\n",
    "        - 举例--- alter table t6 modify age tinyint;"
   ]
  },
  {
   "cell_type": "markdown",
   "metadata": {},
   "source": [
    "#### 7. 零填充约束 zerofill\n",
    "- 概念\n",
    "    - 指定当前列的数值的显示格式，不影响当前列的显示范围\n",
    "- 添加\n",
    "    - 在创建表的时候添加：create......zerofill\n",
    "        - 举例--- create table t7(id int, age int(6) zerofill);\n",
    "    - 通过alter添加(修改)：alter...modify/change.../ alter ... zerofill\n",
    "        - 举例--- alter table t7 modify age int(6) zerofill;\n",
    "- 删除\n",
    "    - alter ... modify/change...\n",
    "        - 举例--- alter table t7 modify age int;"
   ]
  },
  {
   "cell_type": "markdown",
   "metadata": {},
   "source": [
    "#### 8. 外键约束 foreign key\n",
    "- 通过建立外键，设置表与表之间的约束性限制数据的录入\n",
    "- 概念\n",
    "    - 建立表和表之间的关系，建立参照完整性。一个表可以有多个外键，每个外键必须参照另一个主键\n",
    "    - 被外键约束的列，其取值必须参照其主表列中的值\n",
    "    - 注意，通常先创建主表，然后再创建从表\n",
    "- 主表： create table dept(deptno int primary key auto_increment, dname varchar(32) not null, loc varchar(32));\n",
    "- 从表： create table emp(empno int primary key auto_increment, ename varchar(32) not null, deptno int);\n",
    "- 添加\n",
    "    - 在创建表的时候添加：\n",
    "        - 举例--- create table emp(deptno int primary key auto_increment, dname varchar(32) not null, loc varchar(32) [constraint fk_name] foreign key(deptno) references dept(deptno) -- 添加外键约束);\n",
    "    - 通过alter添加(修改)：alter ... add constraint...\n",
    "        - 举例--- alter table emp add constraint fk_name foreign key(deptno) references dept(deptno);\n",
    "- 删除\n",
    "    - alter... drop foreign key 外键名称\n",
    "    - 在创建表时，不去明确的指定外键约束的名称，系统会自动的随机生成一个外键名称，使用show create table 表名，可以查看具体的外键名称\n",
    "        - 举例--- show create table emp;\n",
    "        - alter table emp drop foreign key fk_name;  \n",
    "- 设置外键中的级联关系\n",
    "    - on delete cascade: 删除主表中的数据时，从表中的数据也随之删除\n",
    "    - on update cascade: 更新主表中的数据时，从表中的数据也随之更新\n",
    "    - on delete set null: 删除主表中的数据时，从表中的数据置空 \n",
    "    - 具体使用就是在外键约束后面加上面三个关系\n",
    "- 注意\n",
    "    - 插入数据时，先插入主表的数据，然后在插入从表的数据\n",
    "    - 删除数据时，先删除从表的数据，再删除主表中的数据"
   ]
  },
  {
   "cell_type": "markdown",
   "metadata": {},
   "source": [
    "### 数据库的设计\n",
    "- 主键约束，自增长约束，唯一约束，非空约束，默认约束（外键约束慎用）"
   ]
  }
 ],
 "metadata": {
  "kernelspec": {
   "display_name": "Python 3",
   "language": "python",
   "name": "python3"
  },
  "language_info": {
   "codemirror_mode": {
    "name": "ipython",
    "version": 3
   },
   "file_extension": ".py",
   "mimetype": "text/x-python",
   "name": "python",
   "nbconvert_exporter": "python",
   "pygments_lexer": "ipython3",
   "version": "3.6.3"
  }
 },
 "nbformat": 4,
 "nbformat_minor": 2
}
