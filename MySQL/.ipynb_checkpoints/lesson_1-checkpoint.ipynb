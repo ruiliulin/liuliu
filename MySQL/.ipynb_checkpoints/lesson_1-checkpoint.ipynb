{
 "cells": [
  {
   "cell_type": "markdown",
   "metadata": {
    "collapsed": true
   },
   "source": [
    "# MySQL数据库"
   ]
  },
  {
   "cell_type": "markdown",
   "metadata": {},
   "source": [
    "- 数据库管理系统 管理 多个数据库\n",
    "- 数据库中 存放 多张表\n",
    "- 数据表中 存放 数据"
   ]
  },
  {
   "cell_type": "markdown",
   "metadata": {},
   "source": [
    "## 本机使用\n",
    "- centos7自带是mariadb，一个mysql的变种。\n",
    "- 查看有没有安装过：\n",
    "    - yum list installed mysql*\n",
    "    - rpm -qa | grep mysql*\n",
    "- 安装mysql软件（mariadb）\n",
    "    - yum install mysql*\n",
    "- 启动mysql\n",
    "    - systemctl start mariadb.service 或者 systemctl start mysqld.service\n",
    "- 结束\n",
    "    - systemctl stop mariadb.service 或者 systemctl stop mysqld.service\n",
    "- 重启\n",
    "    - systemctl restart mariadb.service 或者 systemctl restart mysqld.service\n",
    "- 开机自启\n",
    "    - systemctl enable mariadb.service 或者 systemctl enable mysqld.service\n",
    "- 版权声明：本文为CSDN博主「活跃家族」的原创文章，遵循 CC 4.0 BY-SA 版权协议，转载请附上原文出处链接及本声明。\n",
    "- 原文链接：https://blog.csdn.net/u012454429/article/details/54290246"
   ]
  },
  {
   "cell_type": "markdown",
   "metadata": {},
   "source": [
    "## 登录数据库\n",
    "- 格式： mysql -参数\n",
    "- 参数： \n",
    "        \n",
    "        -u        用户名\n",
    "        -p        密码\n",
    "        -P        端口号\n",
    "        -h        数据库的服务器地址（远程链接数据库）\n",
    "        -- prompt 设置提示符"
   ]
  },
  {
   "cell_type": "markdown",
   "metadata": {
    "collapsed": true
   },
   "source": [
    "## 退出数据库\n",
    "- exit\n",
    "- \\q\n",
    "- quit\n"
   ]
  },
  {
   "cell_type": "markdown",
   "metadata": {
    "collapsed": true
   },
   "source": [
    "## 修改密码（windows）\n",
    "- 1. 当你忘记密码的时候，使用此方式\n",
    "    - 停止MuSQL服务\n",
    "    - 在DOS下输入 mysqld --skip-grant-tables\n",
    "    - 在新开的一个DOS登录mysql数据库（不需要密码）\n",
    "    - 更改密码\n",
    "        - user mysql 选择名称是mysql的数据库\n",
    "        - update user set password=password('密码') where user='root';\n",
    "    - 关闭DOS窗口，结束mysql进程\n",
    "    - 重启mysql服务       \n",
    "- 2. 没有忘记密码想修改密码，用这种方式\n",
    "    - mysqladmin -u 用户名 -p password 新密码（回车输入旧密码）\n",
    "    - mysqladmin -u 用户名 -p 原密码 password 新密码"
   ]
  },
  {
   "cell_type": "markdown",
   "metadata": {
    "collapsed": true
   },
   "source": [
    "## 修改mysql的提示符\n",
    "- prompt "
   ]
  },
  {
   "cell_type": "markdown",
   "metadata": {
    "collapsed": true
   },
   "source": [
    "#### 识别版本号\n",
    "- **select version();**"
   ]
  }
 ],
 "metadata": {
  "kernelspec": {
   "display_name": "Python 3",
   "language": "python",
   "name": "python3"
  },
  "language_info": {
   "codemirror_mode": {
    "name": "ipython",
    "version": 3
   },
   "file_extension": ".py",
   "mimetype": "text/x-python",
   "name": "python",
   "nbconvert_exporter": "python",
   "pygments_lexer": "ipython3",
   "version": "3.6.3"
  }
 },
 "nbformat": 4,
 "nbformat_minor": 2
}
